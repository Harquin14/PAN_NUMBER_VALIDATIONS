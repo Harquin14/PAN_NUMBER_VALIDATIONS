{
 "cells": [
  {
   "cell_type": "markdown",
   "id": "93e2c016",
   "metadata": {},
   "source": [
    "# PAN NUMBER VALIDATION WITH PANDAS\n",
    "Data cleaning, validation  "
   ]
  },
  {
   "cell_type": "markdown",
   "id": "c477ea04",
   "metadata": {},
   "source": [
    "# Importing the needed libaries"
   ]
  },
  {
   "cell_type": "code",
   "execution_count": 57,
   "id": "2d3cc97a",
   "metadata": {},
   "outputs": [],
   "source": [
    "import pandas as pd\n",
    "import re"
   ]
  },
  {
   "cell_type": "markdown",
   "id": "a64cf1f8",
   "metadata": {},
   "source": [
    "# Loading the dataset"
   ]
  },
  {
   "cell_type": "code",
   "execution_count": 68,
   "id": "e62ed4fb",
   "metadata": {},
   "outputs": [],
   "source": [
    "cs = pd.read_excel (r\"C:\\Users\\Simon.ansah\\OneDrive - Etranzact Ghana\\confirmation GIP\\PAN_NUMBERS VALODATIONS\\PAN Number Validation Dataset.xlsx\")\n"
   ]
  },
  {
   "cell_type": "markdown",
   "id": "d82375b3",
   "metadata": {},
   "source": [
    "# Printing the first 10 records of the dataset"
   ]
  },
  {
   "cell_type": "code",
   "execution_count": 59,
   "id": "657ba372",
   "metadata": {},
   "outputs": [
    {
     "data": {
      "text/html": [
       "<div>\n",
       "<style scoped>\n",
       "    .dataframe tbody tr th:only-of-type {\n",
       "        vertical-align: middle;\n",
       "    }\n",
       "\n",
       "    .dataframe tbody tr th {\n",
       "        vertical-align: top;\n",
       "    }\n",
       "\n",
       "    .dataframe thead th {\n",
       "        text-align: right;\n",
       "    }\n",
       "</style>\n",
       "<table border=\"1\" class=\"dataframe\">\n",
       "  <thead>\n",
       "    <tr style=\"text-align: right;\">\n",
       "      <th></th>\n",
       "      <th>Pan_Numbers</th>\n",
       "    </tr>\n",
       "  </thead>\n",
       "  <tbody>\n",
       "    <tr>\n",
       "      <th>0</th>\n",
       "      <td>VGLOD3180G</td>\n",
       "    </tr>\n",
       "    <tr>\n",
       "      <th>1</th>\n",
       "      <td>PHOXD7232L</td>\n",
       "    </tr>\n",
       "    <tr>\n",
       "      <th>2</th>\n",
       "      <td>MGEPH6532A</td>\n",
       "    </tr>\n",
       "    <tr>\n",
       "      <th>3</th>\n",
       "      <td>JJCHK4574O</td>\n",
       "    </tr>\n",
       "    <tr>\n",
       "      <th>4</th>\n",
       "      <td>XTQIJ2330L</td>\n",
       "    </tr>\n",
       "    <tr>\n",
       "      <th>5</th>\n",
       "      <td>HTJYM3835H</td>\n",
       "    </tr>\n",
       "    <tr>\n",
       "      <th>6</th>\n",
       "      <td>YQTAP6661X</td>\n",
       "    </tr>\n",
       "    <tr>\n",
       "      <th>7</th>\n",
       "      <td>hvofe5635y</td>\n",
       "    </tr>\n",
       "    <tr>\n",
       "      <th>8</th>\n",
       "      <td>hyuij7902r</td>\n",
       "    </tr>\n",
       "    <tr>\n",
       "      <th>9</th>\n",
       "      <td>idsmt3429e</td>\n",
       "    </tr>\n",
       "  </tbody>\n",
       "</table>\n",
       "</div>"
      ],
      "text/plain": [
       "    Pan_Numbers\n",
       "0    VGLOD3180G\n",
       "1    PHOXD7232L\n",
       "2    MGEPH6532A\n",
       "3    JJCHK4574O\n",
       "4    XTQIJ2330L\n",
       "5    HTJYM3835H\n",
       "6    YQTAP6661X\n",
       "7    hvofe5635y\n",
       "8  hyuij7902r  \n",
       "9    idsmt3429e"
      ]
     },
     "execution_count": 59,
     "metadata": {},
     "output_type": "execute_result"
    }
   ],
   "source": [
    "cs.head(10)"
   ]
  },
  {
   "cell_type": "markdown",
   "id": "ddd67b3d",
   "metadata": {},
   "source": [
    "# checking the data type of the Pan_Numbers"
   ]
  },
  {
   "cell_type": "code",
   "execution_count": 69,
   "id": "e7f83dc5",
   "metadata": {},
   "outputs": [
    {
     "data": {
      "text/plain": [
       "dtype('O')"
      ]
     },
     "execution_count": 69,
     "metadata": {},
     "output_type": "execute_result"
    }
   ],
   "source": [
    "cs.Pan_Numbers.dtypes"
   ]
  },
  {
   "cell_type": "markdown",
   "id": "a224c9cd",
   "metadata": {},
   "source": [
    "# since the pan_numbers were in object we need it to be in string for data cleaning"
   ]
  },
  {
   "cell_type": "code",
   "execution_count": 70,
   "id": "cd0b0ab0",
   "metadata": {},
   "outputs": [],
   "source": [
    "cs = cs.astype('string')"
   ]
  },
  {
   "cell_type": "markdown",
   "id": "225a86ab",
   "metadata": {},
   "source": [
    "# printed the length of the dataset"
   ]
  },
  {
   "cell_type": "code",
   "execution_count": 62,
   "id": "0df83df9",
   "metadata": {},
   "outputs": [
    {
     "name": "stdout",
     "output_type": "stream",
     "text": [
      "The length of pan_numbers is  10000\n"
     ]
    }
   ],
   "source": [
    "print('The length of pan_numbers is ', len(cs))"
   ]
  },
  {
   "cell_type": "markdown",
   "id": "afb1b4e2",
   "metadata": {},
   "source": [
    "# removing all spaces and converting the characters to upper case"
   ]
  },
  {
   "cell_type": "code",
   "execution_count": 71,
   "id": "d6962802",
   "metadata": {},
   "outputs": [],
   "source": [
    "cs.Pan_Numbers =cs.Pan_Numbers.str.strip().str.upper()"
   ]
  },
  {
   "cell_type": "markdown",
   "id": "61238f14",
   "metadata": {},
   "source": [
    "# checking for na values"
   ]
  },
  {
   "cell_type": "code",
   "execution_count": 72,
   "id": "5bf98167",
   "metadata": {},
   "outputs": [
    {
     "data": {
      "text/html": [
       "<div>\n",
       "<style scoped>\n",
       "    .dataframe tbody tr th:only-of-type {\n",
       "        vertical-align: middle;\n",
       "    }\n",
       "\n",
       "    .dataframe tbody tr th {\n",
       "        vertical-align: top;\n",
       "    }\n",
       "\n",
       "    .dataframe thead th {\n",
       "        text-align: right;\n",
       "    }\n",
       "</style>\n",
       "<table border=\"1\" class=\"dataframe\">\n",
       "  <thead>\n",
       "    <tr style=\"text-align: right;\">\n",
       "      <th></th>\n",
       "      <th>Pan_Numbers</th>\n",
       "    </tr>\n",
       "  </thead>\n",
       "  <tbody>\n",
       "    <tr>\n",
       "      <th>5022</th>\n",
       "      <td>&lt;NA&gt;</td>\n",
       "    </tr>\n",
       "    <tr>\n",
       "      <th>5027</th>\n",
       "      <td>&lt;NA&gt;</td>\n",
       "    </tr>\n",
       "    <tr>\n",
       "      <th>5033</th>\n",
       "      <td>&lt;NA&gt;</td>\n",
       "    </tr>\n",
       "    <tr>\n",
       "      <th>5043</th>\n",
       "      <td>&lt;NA&gt;</td>\n",
       "    </tr>\n",
       "    <tr>\n",
       "      <th>5057</th>\n",
       "      <td>&lt;NA&gt;</td>\n",
       "    </tr>\n",
       "    <tr>\n",
       "      <th>...</th>\n",
       "      <td>...</td>\n",
       "    </tr>\n",
       "    <tr>\n",
       "      <th>9961</th>\n",
       "      <td>&lt;NA&gt;</td>\n",
       "    </tr>\n",
       "    <tr>\n",
       "      <th>9972</th>\n",
       "      <td>&lt;NA&gt;</td>\n",
       "    </tr>\n",
       "    <tr>\n",
       "      <th>9986</th>\n",
       "      <td>&lt;NA&gt;</td>\n",
       "    </tr>\n",
       "    <tr>\n",
       "      <th>9987</th>\n",
       "      <td>&lt;NA&gt;</td>\n",
       "    </tr>\n",
       "    <tr>\n",
       "      <th>9997</th>\n",
       "      <td>&lt;NA&gt;</td>\n",
       "    </tr>\n",
       "  </tbody>\n",
       "</table>\n",
       "<p>965 rows × 1 columns</p>\n",
       "</div>"
      ],
      "text/plain": [
       "     Pan_Numbers\n",
       "5022        <NA>\n",
       "5027        <NA>\n",
       "5033        <NA>\n",
       "5043        <NA>\n",
       "5057        <NA>\n",
       "...          ...\n",
       "9961        <NA>\n",
       "9972        <NA>\n",
       "9986        <NA>\n",
       "9987        <NA>\n",
       "9997        <NA>\n",
       "\n",
       "[965 rows x 1 columns]"
      ]
     },
     "execution_count": 72,
     "metadata": {},
     "output_type": "execute_result"
    }
   ],
   "source": [
    "cs[cs.Pan_Numbers.isna()]"
   ]
  },
  {
   "cell_type": "markdown",
   "id": "419418ad",
   "metadata": {},
   "source": [
    "# checking for empty values"
   ]
  },
  {
   "cell_type": "code",
   "execution_count": 73,
   "id": "7956a0cd",
   "metadata": {},
   "outputs": [
    {
     "data": {
      "text/html": [
       "<div>\n",
       "<style scoped>\n",
       "    .dataframe tbody tr th:only-of-type {\n",
       "        vertical-align: middle;\n",
       "    }\n",
       "\n",
       "    .dataframe tbody tr th {\n",
       "        vertical-align: top;\n",
       "    }\n",
       "\n",
       "    .dataframe thead th {\n",
       "        text-align: right;\n",
       "    }\n",
       "</style>\n",
       "<table border=\"1\" class=\"dataframe\">\n",
       "  <thead>\n",
       "    <tr style=\"text-align: right;\">\n",
       "      <th></th>\n",
       "      <th>Pan_Numbers</th>\n",
       "    </tr>\n",
       "  </thead>\n",
       "  <tbody>\n",
       "    <tr>\n",
       "      <th>5019</th>\n",
       "      <td></td>\n",
       "    </tr>\n",
       "    <tr>\n",
       "      <th>5020</th>\n",
       "      <td></td>\n",
       "    </tr>\n",
       "  </tbody>\n",
       "</table>\n",
       "</div>"
      ],
      "text/plain": [
       "     Pan_Numbers\n",
       "5019            \n",
       "5020            "
      ]
     },
     "execution_count": 73,
     "metadata": {},
     "output_type": "execute_result"
    }
   ],
   "source": [
    "cs [(cs['Pan_Numbers'] == '')]\n"
   ]
  },
  {
   "cell_type": "markdown",
   "id": "cad84763",
   "metadata": {},
   "source": [
    "# replacing empty ('') values with na"
   ]
  },
  {
   "cell_type": "code",
   "execution_count": 75,
   "id": "4d03d100",
   "metadata": {},
   "outputs": [],
   "source": [
    "cs.replace({'Pan_Numbers' : ''}, pd.NA, inplace=True)"
   ]
  },
  {
   "cell_type": "markdown",
   "id": "00f3a463",
   "metadata": {},
   "source": [
    "# dropping all na values"
   ]
  },
  {
   "cell_type": "code",
   "execution_count": 76,
   "id": "be6dc8a5",
   "metadata": {},
   "outputs": [],
   "source": [
    "cs = cs.dropna(subset= ['Pan_Numbers'])"
   ]
  },
  {
   "cell_type": "markdown",
   "id": "696f5617",
   "metadata": {},
   "source": [
    "# removing all duplicates values"
   ]
  },
  {
   "cell_type": "code",
   "execution_count": 77,
   "id": "105a9893",
   "metadata": {},
   "outputs": [],
   "source": [
    "cs = cs.drop_duplicates(subset= ['Pan_Numbers'])"
   ]
  },
  {
   "cell_type": "markdown",
   "id": "f932bf06",
   "metadata": {},
   "source": [
    "# checking the length after removing the duplicate values"
   ]
  },
  {
   "cell_type": "code",
   "execution_count": 78,
   "id": "d423ae37",
   "metadata": {},
   "outputs": [
    {
     "name": "stdout",
     "output_type": "stream",
     "text": [
      "The length of pan_numbers is  9025\n"
     ]
    }
   ],
   "source": [
    "print('The length of pan_numbers is ', len(cs))"
   ]
  },
  {
   "cell_type": "code",
   "execution_count": 79,
   "id": "fa0dec7c",
   "metadata": {},
   "outputs": [
    {
     "data": {
      "text/plain": [
       "9025"
      ]
     },
     "execution_count": 79,
     "metadata": {},
     "output_type": "execute_result"
    }
   ],
   "source": [
    "cs.Pan_Numbers.nunique()"
   ]
  },
  {
   "cell_type": "markdown",
   "id": "75572b42",
   "metadata": {},
   "source": [
    "# A function to check adjacent character (AABC, ABBC)"
   ]
  },
  {
   "cell_type": "code",
   "execution_count": 81,
   "id": "07d98663",
   "metadata": {},
   "outputs": [
    {
     "name": "stdout",
     "output_type": "stream",
     "text": [
      "True\n",
      "False\n"
     ]
    }
   ],
   "source": [
    "def adjacent_check(pan):\n",
    "    for i in range(len(pan)-1):\n",
    "        if pan[i] == pan[i+1]:\n",
    "            return True\n",
    "    return False\n",
    "print(adjacent_check('AABC'))  # Example usage\n",
    "print(adjacent_check('ABCD'))  # Example usage"
   ]
  },
  {
   "cell_type": "markdown",
   "id": "783056b9",
   "metadata": {},
   "source": [
    "# A Function to check sequential characters (ABCD, WXYZ)"
   ]
  },
  {
   "cell_type": "code",
   "execution_count": 85,
   "id": "34a1596b",
   "metadata": {},
   "outputs": [
    {
     "name": "stdout",
     "output_type": "stream",
     "text": [
      "True\n",
      "False\n",
      "True\n"
     ]
    }
   ],
   "source": [
    "def is_sequential(pan):\n",
    "    for i in range(len(pan)-1):\n",
    "        if ord(pan[i + 1]) - ord(pan[i]) != 1:\n",
    "            return False\n",
    "    return True\n",
    "print(is_sequential('ABCD'))  # Example usage\n",
    "print(is_sequential('ACZX'))  # Example usage\n",
    "print(is_sequential('QRST'))  # Example usage"
   ]
  },
  {
   "cell_type": "markdown",
   "id": "afb85337",
   "metadata": {},
   "source": [
    "# Main function to check:\n",
    "1. if the length of the pan <> 10\n",
    "2. if the pan follows (A-Z) should be 5 charcters, followed by (0-9) should be 4 digits, (A-Z) the last character should be a character\n",
    "3. if the function adjacent check is false\n",
    "4. if the function is_sequential is false\n",
    "5. create a new columns Status using results of the function is_vaild "
   ]
  },
  {
   "cell_type": "code",
   "execution_count": 86,
   "id": "61d281da",
   "metadata": {},
   "outputs": [
    {
     "name": "stdout",
     "output_type": "stream",
     "text": [
      "  Pan_Numbers   Status\n",
      "0  VGLOD3180G    Valid\n",
      "1  PHOXD7232L    Valid\n",
      "2  MGEPH6532A    Valid\n",
      "3  JJCHK4574O  Invalid\n",
      "4  XTQIJ2330L  Invalid\n",
      "5  HTJYM3835H    Valid\n",
      "6  YQTAP6661X  Invalid\n",
      "7  HVOFE5635Y    Valid\n",
      "8  HYUIJ7902R    Valid\n",
      "9  IDSMT3429E    Valid\n"
     ]
    }
   ],
   "source": [
    "def is_valid(pan):\n",
    "    if len(pan) != 10:\n",
    "        return False\n",
    "    if not re.match(r'^[A-Z]{5}[0-9]{4}[A-Z]$', pan):\n",
    "        return False\n",
    "     \n",
    "    if adjacent_check(pan):\n",
    "        return False\n",
    "    if is_sequential(pan):\n",
    "        return False\n",
    "    return True\n",
    "\n",
    "cs['Status'] = cs.Pan_Numbers.apply(lambda x: 'Valid' if is_valid(x) else 'Invalid')\n",
    "print(cs.head(10))\n"
   ]
  },
  {
   "cell_type": "markdown",
   "id": "05c08646",
   "metadata": {},
   "source": [
    "# printing the results \n",
    "1. getting the records of the total records\n",
    "2. the total of vaild_records\n",
    "3. the total of Invalid_counts\n",
    "4. the total of missing_records"
   ]
  },
  {
   "cell_type": "code",
   "execution_count": null,
   "id": "ae644a90",
   "metadata": {},
   "outputs": [
    {
     "name": "stdout",
     "output_type": "stream",
     "text": [
      "Total Records:  10000\n",
      "Valid Records:  3193\n",
      "Invalid Records:  5832\n",
      "Missing Records:  975\n"
     ]
    }
   ],
   "source": [
    "records = pd.read_excel(r\"C:\\Users\\Simon.ansah\\OneDrive - Etranzact Ghana\\confirmation GIP\\PAN_NUMBERS VALODATIONS\\PAN Number Validation Dataset.xlsx\")\n",
    "Total_records = len(records)\n",
    "Valid_records = cs[cs['Status'] == 'Valid']\n",
    "Invalid_records = cs[cs['Status'] == 'Invalid']\n",
    "missing_records = Total_records - (len(Valid_records) + len(Invalid_records))\n",
    "print('Total Records: ', Total_records)\n",
    "print('Valid Records: ', len(Valid_records))\n",
    "print('Invalid Records: ', len(Invalid_records))"
   ]
  },
  {
   "cell_type": "markdown",
   "id": "bca6fb92",
   "metadata": {},
   "source": [
    "# Creating a summary of the results "
   ]
  },
  {
   "cell_type": "code",
   "execution_count": 96,
   "id": "9e1f6f73",
   "metadata": {},
   "outputs": [
    {
     "name": "stdout",
     "output_type": "stream",
     "text": [
      "   Total Records  Valid Records  Invalid Records  Missing Records\n",
      "0          10000           3193             5832              975\n"
     ]
    }
   ],
   "source": [
    "cs_summary = pd.DataFrame({\n",
    "    'Total Records': [Total_records],\n",
    "    'Valid Records': [len(Valid_records)],\n",
    "    'Invalid Records': [len(Invalid_records)],\n",
    "    'Missing Records': [missing_records]\n",
    "})\n",
    "print(cs_summary)"
   ]
  },
  {
   "cell_type": "markdown",
   "id": "085421a8",
   "metadata": {},
   "source": [
    "# writing the summary and the results into an excel file (PAN_NNumber_Validation_Summary)"
   ]
  },
  {
   "cell_type": "code",
   "execution_count": 97,
   "id": "729fe51c",
   "metadata": {},
   "outputs": [],
   "source": [
    "with pd.ExcelWriter('PAN_Number_Validation_Summary.xlsx') as writer:\n",
    "    cs_summary.to_excel(writer, index=False, sheet_name='Summary')\n",
    "    cs.to_excel(writer, index=False, sheet_name='Detailed Results')"
   ]
  },
  {
   "cell_type": "markdown",
   "id": "ec60f74d",
   "metadata": {},
   "source": [
    "Thank you\n",
    "\n",
    " By \n",
    "Simon Owusu Ansah (Data Analyst)\n",
    "\n",
    "Linkedln: [see my profile](https://www.linkedin.com/in/simon-owusu-ansah-76224421a/)"
   ]
  },
  {
   "cell_type": "markdown",
   "id": "27452021",
   "metadata": {},
   "source": []
  }
 ],
 "metadata": {
  "kernelspec": {
   "display_name": "Python 3",
   "language": "python",
   "name": "python3"
  },
  "language_info": {
   "codemirror_mode": {
    "name": "ipython",
    "version": 3
   },
   "file_extension": ".py",
   "mimetype": "text/x-python",
   "name": "python",
   "nbconvert_exporter": "python",
   "pygments_lexer": "ipython3",
   "version": "3.12.4"
  }
 },
 "nbformat": 4,
 "nbformat_minor": 5
}
